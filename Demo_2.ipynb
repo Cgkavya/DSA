{
  "nbformat": 4,
  "nbformat_minor": 0,
  "metadata": {
    "colab": {
      "provenance": []
    },
    "kernelspec": {
      "name": "python3",
      "display_name": "Python 3"
    },
    "language_info": {
      "name": "python"
    }
  },
  "cells": [
    {
      "cell_type": "code",
      "execution_count": null,
      "metadata": {
        "colab": {
          "base_uri": "https://localhost:8080/"
        },
        "id": "syiS1QhwC_sS",
        "outputId": "54f58f2d-54fa-4e41-c0cb-94d936a679cc"
      },
      "outputs": [
        {
          "output_type": "stream",
          "name": "stdout",
          "text": [
            "5.714285714285714\n"
          ]
        }
      ],
      "source": [
        "x = [2,4,7,8,9,2,8]\n",
        "y = sum(x)\n",
        "z = len(x)\n",
        "# Mean\n",
        "print(y/z)"
      ]
    },
    {
      "cell_type": "code",
      "source": [
        "x = [2,4,7,8,9,2,8]\n",
        "y = sum(x)\n",
        "n = len(x)\n",
        "a = sorted(x)\n",
        "# Mean\n",
        "z = y/n\n",
        "print(\"Mean = \", int(z))\n",
        "# Median\n",
        "if n % 2 == 0:\n",
        "  m = a[int((n/2) + ((n/2)+1))]\n",
        "else:\n",
        "  m = a[int((n+1)/2)]\n",
        "  print (\"Median = \", m)\n",
        "# Variance\n",
        "  i = 0\n",
        "  s = 0\n",
        "for i in x:\n",
        " s += (i-z) ** 2\n",
        " v = s/n\n",
        "print(\"Variance = \", int(v))"
      ],
      "metadata": {
        "colab": {
          "base_uri": "https://localhost:8080/"
        },
        "id": "sg6pGR3jEaRQ",
        "outputId": "6ebdb463-b612-48b8-dffb-dc24a0922dab"
      },
      "execution_count": null,
      "outputs": [
        {
          "output_type": "stream",
          "name": "stdout",
          "text": [
            "Mean =  5\n",
            "Median =  8\n",
            "Variance =  7\n"
          ]
        }
      ]
    },
    {
      "cell_type": "code",
      "source": [
        "\n"
      ],
      "metadata": {
        "id": "VpsZrrlBIq9P"
      },
      "execution_count": null,
      "outputs": []
    }
  ]
}