{
  "nbformat": 4,
  "nbformat_minor": 0,
  "metadata": {
    "colab": {
      "provenance": []
    },
    "kernelspec": {
      "name": "python3",
      "display_name": "Python 3"
    },
    "language_info": {
      "name": "python"
    }
  },
  "cells": [
    {
      "cell_type": "code",
      "execution_count": null,
      "metadata": {
        "colab": {
          "base_uri": "https://localhost:8080/"
        },
        "id": "SiqmmFyVN4By",
        "outputId": "bd567f5a-ead0-40e3-fa7b-a9e0e6a4081e"
      },
      "outputs": [
        {
          "output_type": "stream",
          "name": "stdout",
          "text": [
            "hello)\n"
          ]
        }
      ],
      "source": [
        "print(\"hello)\")"
      ]
    },
    {
      "cell_type": "markdown",
      "source": [
        "# Basics of python\n",
        "- item 1\n",
        "1. example"
      ],
      "metadata": {
        "id": "I4puZEfqPVf4"
      }
    },
    {
      "cell_type": "code",
      "source": [
        "print(\"Good evening.\")"
      ],
      "metadata": {
        "id": "DexduK_IPMW3",
        "colab": {
          "base_uri": "https://localhost:8080/"
        },
        "outputId": "69e0a443-a670-433b-df6a-01ac4aff8534"
      },
      "execution_count": null,
      "outputs": [
        {
          "output_type": "stream",
          "name": "stdout",
          "text": [
            "Good evening.\n"
          ]
        }
      ]
    },
    {
      "cell_type": "code",
      "source": [
        "x = 28\n",
        "print(x+3)"
      ],
      "metadata": {
        "colab": {
          "base_uri": "https://localhost:8080/"
        },
        "id": "PGhFdCHKv4aV",
        "outputId": "994466ac-3999-475c-ab22-642f0983af1d"
      },
      "execution_count": null,
      "outputs": [
        {
          "output_type": "stream",
          "name": "stdout",
          "text": [
            "31\n"
          ]
        }
      ]
    },
    {
      "cell_type": "code",
      "source": [
        "month = 'Novemeber'\n",
        "print(month)\n",
        "print(type(month))\n",
        "print(len(month))\n",
        "month[1]"
      ],
      "metadata": {
        "colab": {
          "base_uri": "https://localhost:8080/",
          "height": 90
        },
        "id": "D4a9ONRbx5iV",
        "outputId": "e6178af6-3b76-4770-a4bf-3e0dec7765aa"
      },
      "execution_count": null,
      "outputs": [
        {
          "output_type": "stream",
          "name": "stdout",
          "text": [
            "Novemeber\n",
            "<class 'str'>\n",
            "9\n"
          ]
        },
        {
          "output_type": "execute_result",
          "data": {
            "text/plain": [
              "'o'"
            ],
            "application/vnd.google.colaboratory.intrinsic+json": {
              "type": "string"
            }
          },
          "metadata": {},
          "execution_count": 14
        }
      ]
    },
    {
      "cell_type": "code",
      "source": [
        "type(5.1)"
      ],
      "metadata": {
        "colab": {
          "base_uri": "https://localhost:8080/"
        },
        "id": "3-0bwTT9wy-B",
        "outputId": "ec497423-30f5-4e82-8e08-484573528550"
      },
      "execution_count": null,
      "outputs": [
        {
          "output_type": "execute_result",
          "data": {
            "text/plain": [
              "float"
            ]
          },
          "metadata": {},
          "execution_count": 5
        }
      ]
    },
    {
      "cell_type": "code",
      "source": [
        "print(4.9)"
      ],
      "metadata": {
        "colab": {
          "base_uri": "https://localhost:8080/"
        },
        "id": "aomthgSLujh6",
        "outputId": "cdc22d3c-c011-415e-d322-ee4e625a1a70"
      },
      "execution_count": null,
      "outputs": [
        {
          "output_type": "stream",
          "name": "stdout",
          "text": [
            "4.9\n"
          ]
        }
      ]
    },
    {
      "cell_type": "code",
      "source": [
        "x = \"mom\"\n",
        "if x == x[::-1]:\n",
        "   print(\"The text is palindrome\")\n",
        "else:\n",
        "   print(\"The text is not palindrome\")"
      ],
      "metadata": {
        "colab": {
          "base_uri": "https://localhost:8080/"
        },
        "id": "88tjAatAsGFO",
        "outputId": "bfb5d085-f2cb-452a-9277-4a24a6e87525"
      },
      "execution_count": null,
      "outputs": [
        {
          "output_type": "stream",
          "name": "stdout",
          "text": [
            "The text is palindrome\n"
          ]
        }
      ]
    },
    {
      "cell_type": "code",
      "source": [
        "x = \"malayalam\"\n",
        "if x[::1] == x[::-1]:\n",
        "   print(\"The text is palindrome\")\n",
        "else:\n",
        "   print(\"The text is not palindrome\")"
      ],
      "metadata": {
        "colab": {
          "base_uri": "https://localhost:8080/"
        },
        "id": "uSFqO_T1vZrd",
        "outputId": "63ac40f9-ba7c-4aa0-d3e3-593ebc762110"
      },
      "execution_count": null,
      "outputs": [
        {
          "output_type": "stream",
          "name": "stdout",
          "text": [
            "The text is palindrome\n"
          ]
        }
      ]
    },
    {
      "cell_type": "code",
      "source": [
        "y = \"mother\"\n",
        "if y == y[::-1]:\n",
        "   print(\"The text is palindrome\")\n",
        "else:\n",
        "   print(\"The text is not palindrome\")"
      ],
      "metadata": {
        "colab": {
          "base_uri": "https://localhost:8080/"
        },
        "id": "zi6OwtE_t2BF",
        "outputId": "481fbef6-e1ec-41ac-8570-b95d07dd9ecf"
      },
      "execution_count": null,
      "outputs": [
        {
          "output_type": "stream",
          "name": "stdout",
          "text": [
            "The text is not palindrome\n"
          ]
        }
      ]
    },
    {
      "cell_type": "code",
      "source": [
        "def your_function_1():\n",
        "  num = input(\"Enter the number: \")\n",
        "  num = int(num)\n",
        "  square = num * num\n",
        "  return square\n",
        "\n",
        "\n",
        "result = your_function_1()\n",
        "print(\"Square of number : \" ,result)"
      ],
      "metadata": {
        "colab": {
          "base_uri": "https://localhost:8080/"
        },
        "id": "lxsiUJ85pZ9K",
        "outputId": "cddb89b3-4fdb-448c-b327-0c811a1a08c5"
      },
      "execution_count": null,
      "outputs": [
        {
          "output_type": "stream",
          "name": "stdout",
          "text": [
            "Enter the number: 7\n",
            "Square of number :  49\n"
          ]
        }
      ]
    },
    {
      "cell_type": "code",
      "source": [
        "for i in range(5):\n",
        "    if i == 3:\n",
        "        pass  # Do nothing when i is 3\n",
        "    else:\n",
        "        print(i)"
      ],
      "metadata": {
        "colab": {
          "base_uri": "https://localhost:8080/"
        },
        "id": "28zIPd793wR6",
        "outputId": "4262a17d-9585-4968-a2ed-5ea414de44d6"
      },
      "execution_count": null,
      "outputs": [
        {
          "output_type": "stream",
          "name": "stdout",
          "text": [
            "0\n",
            "1\n",
            "2\n",
            "4\n"
          ]
        }
      ]
    }
  ]
}