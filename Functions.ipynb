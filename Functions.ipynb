{
  "nbformat": 4,
  "nbformat_minor": 0,
  "metadata": {
    "colab": {
      "provenance": []
    },
    "kernelspec": {
      "name": "python3",
      "display_name": "Python 3"
    },
    "language_info": {
      "name": "python"
    }
  },
  "cells": [
    {
      "cell_type": "code",
      "execution_count": null,
      "metadata": {
        "colab": {
          "base_uri": "https://localhost:8080/"
        },
        "id": "Kn99Y6Dt-RJ-",
        "outputId": "77cd7c16-32b9-4e0a-d3b1-30d5fe811a42"
      },
      "outputs": [
        {
          "output_type": "stream",
          "name": "stdout",
          "text": [
            "Enter the number: 14\n",
            "The number is even\n"
          ]
        }
      ],
      "source": [
        "def your_function_2():\n",
        "\n",
        "  a = input(\"Enter the number: \")\n",
        "  a = int(a)\n",
        "\n",
        "  if (a % 2 == 0):\n",
        "    print(\"The number is even\")\n",
        "  return\n",
        "\n",
        "\n",
        "your_function_2()"
      ]
    },
    {
      "cell_type": "code",
      "source": [
        "# Your code here\n",
        "def your_function_4(n):\n",
        "    if(n == 1):\n",
        "        return 1\n",
        "    else:\n",
        "        return n * your_function_4(n-1)\n",
        "\n",
        "\n",
        "\n",
        "fact = your_function_4(5)\n",
        "print(\"The factorial is : \" , fact)"
      ],
      "metadata": {
        "colab": {
          "base_uri": "https://localhost:8080/"
        },
        "id": "8foXsP6f_d0J",
        "outputId": "3d442ef5-79fa-48b1-e4a5-4300a0574db4"
      },
      "execution_count": null,
      "outputs": [
        {
          "output_type": "stream",
          "name": "stdout",
          "text": [
            "The factorial is :  120\n"
          ]
        }
      ]
    },
    {
      "cell_type": "code",
      "source": [
        "def your_function_5(s):\n",
        "    rev = s[::-1]\n",
        "    print(rev)\n",
        "    return\n",
        "\n",
        "\n",
        "\n",
        "your_function_5(\"Datascience\")\n"
      ],
      "metadata": {
        "colab": {
          "base_uri": "https://localhost:8080/"
        },
        "id": "4CXqJ14uDeU0",
        "outputId": "b63c8f77-808e-4e84-cc44-ff37bc5550b4"
      },
      "execution_count": null,
      "outputs": [
        {
          "output_type": "stream",
          "name": "stdout",
          "text": [
            "ecneicsataD\n"
          ]
        }
      ]
    },
    {
      "cell_type": "code",
      "source": [
        "def your_function_7():\n",
        "    s = \"ICT Academy\"\n",
        "    vowels = \"aeiouAEIOU\"\n",
        "    cnt = {i: s.count(i) for i in vowels if i in s}\n",
        "    print(cnt)\n",
        "    return\n",
        "\n",
        "\n",
        "your_function_7()\n",
        "pass"
      ],
      "metadata": {
        "colab": {
          "base_uri": "https://localhost:8080/"
        },
        "id": "ChOSd-yzGp9Y",
        "outputId": "2096c9d5-c263-49c6-f118-8b5e7a745314"
      },
      "execution_count": null,
      "outputs": [
        {
          "output_type": "stream",
          "name": "stdout",
          "text": [
            "{'a': 1, 'e': 1, 'A': 1, 'I': 1}\n"
          ]
        }
      ]
    },
    {
      "cell_type": "code",
      "source": [
        "b = [1, 2, 2, 3, 4, 4, 5, 6 , 7, 8, 8]\n",
        "\n",
        "unique_list = list(dict.fromkeys(b))\n",
        "print(unique_list)"
      ],
      "metadata": {
        "colab": {
          "base_uri": "https://localhost:8080/"
        },
        "id": "SQR2sidvJqUU",
        "outputId": "98e8d036-1ee7-4f78-8dee-fddcc9e6adbc"
      },
      "execution_count": null,
      "outputs": [
        {
          "output_type": "stream",
          "name": "stdout",
          "text": [
            "[1, 2, 3, 4, 5, 6, 7, 8]\n"
          ]
        }
      ]
    },
    {
      "cell_type": "code",
      "source": [
        "s = \"Python is fun and versatile.\"\n",
        "\n",
        "# Counting words\n",
        "word_count = len(s.split())\n",
        "print(word_count)"
      ],
      "metadata": {
        "colab": {
          "base_uri": "https://localhost:8080/"
        },
        "id": "5h2DRVvBMcJV",
        "outputId": "387bcbba-756f-4f15-d9ab-91652b63a1ab"
      },
      "execution_count": null,
      "outputs": [
        {
          "output_type": "stream",
          "name": "stdout",
          "text": [
            "5\n"
          ]
        }
      ]
    },
    {
      "cell_type": "code",
      "source": [
        "c = float(input(\"Enter temperature in celsius: \"))\n",
        "\n",
        "f = (c * 1.8) + 32\n",
        "\n",
        "print(str(c))\n",
        "print(str(f))"
      ],
      "metadata": {
        "colab": {
          "base_uri": "https://localhost:8080/"
        },
        "id": "oEOwjkoKNIir",
        "outputId": "ceaa1a28-caf1-47ce-ca5b-2d279ef4b7a4"
      },
      "execution_count": null,
      "outputs": [
        {
          "output_type": "stream",
          "name": "stdout",
          "text": [
            "Enter temperature in celsius: 47\n",
            "47.0\n",
            "116.60000000000001\n"
          ]
        }
      ]
    },
    {
      "cell_type": "code",
      "source": [
        "import math\n",
        "\n",
        "n = 11\n",
        "if n <= 1:\n",
        "    print(False)\n",
        "else:\n",
        "    is_prime = True\n",
        "    for i in range(2, int(math.sqrt(n)) + 1):\n",
        "        if n % i == 0:\n",
        "            is_prime = False\n",
        "            break\n",
        "    print(is_prime)"
      ],
      "metadata": {
        "colab": {
          "base_uri": "https://localhost:8080/"
        },
        "id": "b5MWiREyOrLb",
        "outputId": "ca14f7bd-688d-48d5-e23f-ae51d8b37ece"
      },
      "execution_count": null,
      "outputs": [
        {
          "output_type": "stream",
          "name": "stdout",
          "text": [
            "True\n"
          ]
        }
      ]
    },
    {
      "cell_type": "code",
      "source": [
        "a = [1, 2, 3, 4, 5, 6, 7, 8, 9, 10]\n",
        "\n",
        "# Iterate through each element in the list\n",
        "for val in a:\n",
        "\n",
        "    # Checks if a number is divisible by 2 (i.e., even).\n",
        "    if val % 2 == 0:\n",
        "        print(val, end = \" \")"
      ],
      "metadata": {
        "colab": {
          "base_uri": "https://localhost:8080/"
        },
        "id": "NjiQRUoWO8f7",
        "outputId": "f10be490-3b5b-449f-b58d-f64579f3da4a"
      },
      "execution_count": null,
      "outputs": [
        {
          "output_type": "stream",
          "name": "stdout",
          "text": [
            "2 4 6 8 10 "
          ]
        }
      ]
    },
    {
      "cell_type": "code",
      "source": [
        "def fibonacci(n):\n",
        "    if n <= 0:\n",
        "        return \"Incorrect Output\"\n",
        "    data = [0, 1]\n",
        "    if n > 2:\n",
        "        for i in range(2, n):\n",
        "            data.append(data[i-1] + data[i-2])\n",
        "    return data[n-1]\n",
        "\n",
        "# Driver Program\n",
        "print(fibonacci(9))"
      ],
      "metadata": {
        "colab": {
          "base_uri": "https://localhost:8080/"
        },
        "id": "Ae6Qb3ZyQhY2",
        "outputId": "b574581f-5de3-46e8-daea-0d59bc89691f"
      },
      "execution_count": null,
      "outputs": [
        {
          "output_type": "stream",
          "name": "stdout",
          "text": [
            "21\n"
          ]
        }
      ]
    },
    {
      "cell_type": "code",
      "source": [
        "def your_function_20():\n",
        "    e = ['Apple' , 'Banana', \"Orange\", \"Grapes\"]\n",
        "    if len(e) > len(set(e)):\n",
        "        return False\n",
        "    else:\n",
        "        return True\n",
        "\n",
        "your_function_20()\n",
        "pass\n"
      ],
      "metadata": {
        "id": "8YELwjG-Vn9q"
      },
      "execution_count": null,
      "outputs": []
    }
  ]
}